{
 "cells": [
  {
   "cell_type": "markdown",
   "id": "732832de",
   "metadata": {},
   "source": [
    "# DS 9000 Project\n",
    "\n",
    "Dataset [here](https://www.kaggle.com/datasets/nasa/kepler-exoplanet-search-results)"
   ]
  },
  {
   "cell_type": "code",
   "execution_count": 1,
   "id": "464a6119",
   "metadata": {},
   "outputs": [],
   "source": [
    "%load_ext jupyter_black\n",
    "\n",
    "import pandas as pd\n",
    "import numpy as np\n",
    "import seaborn as sns\n",
    "import matplotlib.pyplot as plt\n",
    "\n",
    "%matplotlib inline"
   ]
  }
 ],
 "metadata": {
  "kernelspec": {
   "display_name": ".venv",
   "language": "python",
   "name": "python3"
  },
  "language_info": {
   "codemirror_mode": {
    "name": "ipython",
    "version": 3
   },
   "file_extension": ".py",
   "mimetype": "text/x-python",
   "name": "python",
   "nbconvert_exporter": "python",
   "pygments_lexer": "ipython3",
   "version": "3.10.18"
  }
 },
 "nbformat": 4,
 "nbformat_minor": 5
}
